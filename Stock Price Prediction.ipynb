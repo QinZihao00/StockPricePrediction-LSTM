{
 "cells": [
  {
   "cell_type": "markdown",
   "metadata": {
    "collapsed": true
   },
   "source": [
    "# Stock Price Prediction"
   ]
  },
  {
   "cell_type": "code",
   "execution_count": null,
   "metadata": {
    "pycharm": {
     "name": "#%%\n"
    }
   },
   "outputs": [],
   "source": [
    "# initialize API library\n",
    "# 1. For finnhub-python\n",
    "#import finnhub\n",
    "#finnhub_client = finnhub.Client(api_key=\"bsdb2a7rh5r8dht95tm0\")\n",
    "\n",
    "# 2. For twelvedata\n",
    "from twelvedata import TDClient\n",
    "td = TDClient(apikey=\"2e7d44bf8b294e2381477193c7d7d117\")"
   ]
  },
  {
   "cell_type": "code",
   "execution_count": null,
   "metadata": {
    "pycharm": {
     "name": "#%%\n"
    },
    "scrolled": false
   },
   "outputs": [],
   "source": [
    "import os\n",
    "import os.path\n",
    "import math\n",
    "\n",
    "import numpy as np\n",
    "import torch\n",
    "import torch.nn as nn\n",
    "import torch.nn.functional as F\n",
    "import pandas as pd\n",
    "from torch.utils.data import Dataset\n",
    "from torch.utils.data import DataLoader\n",
    "from sklearn.preprocessing import MinMaxScaler\n",
    "scaler = MinMaxScaler(feature_range=(0, 1))\n",
    "\n",
    "import matplotlib.pyplot as plt\n",
    "from scipy.signal import argrelextrema\n",
    "\n",
    "look_back = 400\n",
    "hidden_size = 128\n",
    "batch_size = 1"
   ]
  },
  {
   "cell_type": "code",
   "execution_count": null,
   "metadata": {
    "pycharm": {
     "name": "#%%\n"
    }
   },
   "outputs": [],
   "source": [
    "device = torch.device('cuda' if torch.cuda.is_available() else 'cpu')\n",
    "print(f'Using device: {device}')"
   ]
  },
  {
   "cell_type": "markdown",
   "metadata": {
    "pycharm": {
     "name": "#%% md\n"
    }
   },
   "source": [
    "## Main"
   ]
  },
  {
   "cell_type": "code",
   "execution_count": null,
   "metadata": {
    "pycharm": {
     "name": "#%%\n"
    }
   },
   "outputs": [],
   "source": [
    "# Create dataset with lookback\n",
    "def create_dataset(data, look_back=look_back):\n",
    "    dataX, dataY = [], []\n",
    "    for i in range(len(data)-look_back-1):\n",
    "        a = data[i:i+look_back]\n",
    "        dataX.append(a)\n",
    "        dataY.extend(data[i+look_back])\n",
    "\n",
    "    return np.array(dataX).squeeze(), np.array(dataY)"
   ]
  },
  {
   "cell_type": "code",
   "execution_count": null,
   "metadata": {
    "pycharm": {
     "name": "#%%\n"
    }
   },
   "outputs": [],
   "source": [
    "# Create Dataset Object\n",
    "class dataset(Dataset):\n",
    "    \"\"\"Dataset Object\"\"\"\n",
    "    def __init__(self, file_name, transform=None):\n",
    "        self.data = pd.read_csv(file_name)\n",
    "        self.transform = transform\n",
    "    \n",
    "    def __len__(self):\n",
    "        return len(self.data)\n",
    "    \n",
    "    def __getitem__(self, idx):\n",
    "        \"\"\"A map-style dataset return a sample corresponding to the index\"\"\"\n",
    "        #return torch.tensor(self.data.values[:, 1:][idx], dtype=torch.float32)\n",
    "        values = self.data.values\n",
    "        return torch.tensor(values[:, 1:][idx], dtype=torch.float32)"
   ]
  },
  {
   "cell_type": "code",
   "execution_count": null,
   "metadata": {
    "pycharm": {
     "name": "#%%\n"
    }
   },
   "outputs": [],
   "source": [
    "# Define the model\n",
    "class lstm_linear(nn.Module):\n",
    "    def __init__(self, hidden_size=hidden_size, look_back=look_back):\n",
    "        super(lstm_linear, self).__init__()\n",
    "        self.lstm = nn.LSTM(1, hidden_size)\n",
    "        self.linear = nn.Linear(look_back*hidden_size, 1)\n",
    "    \n",
    "    def forward(self, x, hidden_size=hidden_size):\n",
    "        output, (hidden_state, cell_state) = self.lstm(x)\n",
    "        y = self.linear(output.reshape(-1, look_back * hidden_size))\n",
    "        return y"
   ]
  },
  {
   "cell_type": "code",
   "execution_count": null,
   "metadata": {},
   "outputs": [],
   "source": [
    "def df_set(X, Y):\n",
    "    df_set = {}\n",
    "    if look_back > 1:\n",
    "        for i in range(look_back):\n",
    "            df_set[f'trainX{i}'] = X[:, i]\n",
    "        df_set['trainY'] = Y\n",
    "    else:\n",
    "        df_set['trainX'] = X\n",
    "        df_set['trainY'] = Y\n",
    "    return df_set"
   ]
  },
  {
   "cell_type": "code",
   "execution_count": null,
   "metadata": {},
   "outputs": [],
   "source": [
    "class stock:\n",
    "    \"\"\"The stock object with several operations\"\"\"\n",
    "    def __init__(self, stock_code, root_dir=None):\n",
    "        self.stock_code = stock_code\n",
    "        self.root_dir = root_dir\n",
    "        self.stock_data = pd.DataFrame(td.time_series(symbol=self.stock_code,\n",
    "                                                      interval='1min',\n",
    "                                                      outputsize='5000',\n",
    "                                                      end_date='2020-07-28 9:30:00',\n",
    "                                                      timezone='America/New_York').as_pandas()['close'])\n",
    "        self.stock_values = scaler.fit_transform(self.stock_data.values[::-1])\n",
    "    \n",
    "    def create_train(self):\n",
    "        \"\"\"create training data set and store in csv format\"\"\"\n",
    "        self.stock_time_idx = self.stock_data.index[::-1]\n",
    "        trainX, trainY = create_dataset(self.stock_values)\n",
    "        stock_train = pd.DataFrame(df_set(trainX, trainY))\n",
    "        if not os.path.isdir('stock_data'):\n",
    "            os.mkdir('stock_data')\n",
    "        stock_train.to_csv(f'stock_data/{self.stock_code}_train.csv')\n",
    "    \n",
    "    def create_dataloader(self):\n",
    "        \"\"\"create dataloader for training set\"\"\"\n",
    "        train_set = dataset(f'stock_data/{self.stock_code}_train.csv')\n",
    "        return DataLoader(train_set, batch_size=batch_size, shuffle=False)\n",
    "    \n",
    "    def trained_model(self, model, train_loader, epochs=30):\n",
    "        \"\"\"training and return the trained model\"\"\"\n",
    "        criterion = nn.MSELoss(reduction='sum')\n",
    "        optimizer = torch.optim.Adam(model.parameters())\n",
    "\n",
    "        for epoch in range(epochs):\n",
    "            running_loss = 0\n",
    "            for i, data in enumerate(train_loader):\n",
    "                x = data[:, :-1].reshape(look_back, batch_size, 1).to(device)\n",
    "                y_true = data[:, -1].reshape(1, batch_size, 1).to(device)\n",
    "                #x = data[:, 0].reshape(1, 20, 1).to(device)\n",
    "                #y_true = data[:, 1].reshape(1, 20, 1).to(device)\n",
    "                \n",
    "                optimizer.zero_grad()\n",
    "                y_pred = model(x).reshape(1, batch_size, 1)\n",
    "                loss = criterion(y_pred, y_true)\n",
    "\n",
    "                loss.backward()\n",
    "                optimizer.step()\n",
    "\n",
    "                # Print statistics\n",
    "                running_loss += loss.item()\n",
    "                if i%100 == 99:\n",
    "                    print(f\"epoch:[{epoch+1}/{epochs}], [{i+1}/{len(train_loader)}], loss: {running_loss/100}\")\n",
    "                    running_loss = 0\n",
    "        print('Training Finished!')\n",
    "        return model\n",
    "    \n",
    "    def predict_trend(self, trained_model, time_interval='2 Days'):\n",
    "        \"\"\"predict the stock trend hourly for certain interval of time and by default is one business week.\n",
    "           Return the result as a dataframe with timestamp and predicted value.\n",
    "        \"\"\"\n",
    "        # Get time index\n",
    "        # time_now = pd.Timestamp.now(tz='America/New_York').round('5min')\n",
    "        time_now = pd.Timestamp('2020-07-28 9:35:00', tz='America/New_York').round('1min')\n",
    "        time_interval = pd.date_range(time_now, time_now+pd.Timedelta(time_interval), freq='1min')\n",
    "        time_interval = time_interval[time_interval.indexer_between_time('9:30', '16:00')]\n",
    "        time_interval = time_interval[time_interval.dayofweek<5]\n",
    "        \n",
    "        # Get the newest one sample\n",
    "        start_data = self.stock_values[-look_back:]\n",
    "        \n",
    "        # Predict the trend during the time interval\n",
    "        y_pred_list = start_data\n",
    "        with torch.no_grad():\n",
    "            for i in range(len(time_interval)):\n",
    "                y_pred = trained_model(torch.Tensor(y_pred_list[-look_back:].reshape(look_back, 1, 1)))\n",
    "                y_pred_list = np.append(y_pred_list, y_pred.squeeze())\n",
    "                \n",
    "        return time_interval, scaler.inverse_transform([y_pred_list[look_back:]]).squeeze()\n",
    "    \n",
    "    def plot_trend(self, x, y, ax):\n",
    "        ax.plot(x, y, label='pred trend')\n",
    "        for i in argrelextrema(y, np.greater)[0]:\n",
    "            ax.annotate((f'{x[i].hour}:{x[i].minute}:{x[i].second}', f'{y[i]:.2f}'), (x[i], y[i]))\n",
    "        for i in argrelextrema(y, np.less)[0]:\n",
    "            ax.annotate((f'{x[i].hour}:{x[i].minute}:{x[i].second}', f'{y[i]:.2f}'), (x[i], y[i]))\n",
    "        plt.title(f'Predicted Trend: {self.stock_code}')\n",
    "        plt.legend()"
   ]
  },
  {
   "cell_type": "code",
   "execution_count": null,
   "metadata": {},
   "outputs": [],
   "source": [
    "def predict_in_batch(stock_list, epochs=30, time_interval='2 Days'):\n",
    "    \"\"\"Input a list of stock code. Save prediction results in pred_result.\"\"\"\n",
    "    df_list = []\n",
    "    figure = plt.figure(figsize=(20, 6*len(stock_list)))\n",
    "    for i, stock_code in enumerate(stock_list):\n",
    "        # Initialize model\n",
    "        model = lstm_linear(hidden_size=hidden_size, look_back=look_back).to(device)\n",
    "        \n",
    "        # create stock object and training set\n",
    "        stock_obj = stock(stock_code)\n",
    "        stock_obj.create_train()\n",
    "        train_loader = stock_obj.create_dataloader()\n",
    "        \n",
    "        # Training model and return trained model\n",
    "        print(f'Training model on data of {stock_code}...')\n",
    "        model = stock_obj.trained_model(model, train_loader, epochs=epochs)\n",
    "        \n",
    "        # Predict the trend of next 2 days and plot\n",
    "        x, y = stock_obj.predict_trend(model.to('cpu'), time_interval=time_interval)\n",
    "        df_list.append(pd.DataFrame({'datetime':x, f'{stock_code} price':y}).set_index('datetime'))\n",
    "        print(f'Inference Finished!')\n",
    "        \n",
    "        # Plot the figure\n",
    "        ax = plt.subplot(len(stock_list), 1, i+1)\n",
    "        stock_obj.plot_trend(x, y, ax)\n",
    "    \n",
    "    plt.show()\n",
    "    print(f'The entire prediction is finished!')\n",
    "    return figure, pd.concat(df_list, axis=1)"
   ]
  },
  {
   "cell_type": "code",
   "execution_count": null,
   "metadata": {
    "scrolled": true
   },
   "outputs": [],
   "source": [
    "# This block is for modifing input\n",
    "# Input the list of stock code and make prediction!\n",
    "\n",
    "# An example is follows:\n",
    "#stock_list = ['AAPL', 'AMZN', 'TWTR', 'NFLX', 'TSLA', 'GOOG', 'MSFT', 'PG', 'DIS', 'BIIB', 'LLY', 'SBUX', 'INTC', 'FB', 'AEP', 'AEE']\n",
    "stock_list = ['AMZN']\n",
    "result_fg, result_df = predict_in_batch(stock_list, epochs=30, time_interval='4 Days')\n",
    "\n",
    "# If you want to save the result in the 'pred_result'\n",
    "your_name = 'Qin'\n",
    "if not os.path.isdir('pred_result'):\n",
    "    os.mkdir('pred_result')\n",
    "result_df.to_csv(f'pred_result/pred_result_{your_name}.csv')\n",
    "result_fg.savefig(f'pred_result/pred_result_{your_name}.png')\n",
    "\n",
    "# You can modify the example or write your own! Let's begin!"
   ]
  },
  {
   "cell_type": "markdown",
   "metadata": {
    "pycharm": {
     "name": "#%% md\n"
    }
   },
   "source": [
    "# For Checking Current Update"
   ]
  },
  {
   "cell_type": "code",
   "execution_count": null,
   "metadata": {
    "pycharm": {
     "name": "#%%\n"
    }
   },
   "outputs": [],
   "source": [
    "# **************************************TO DO***********************************************\n",
    "def get_latest_trend(stock_list):\n",
    "    \"\"\"Input a list of stock code and get the newest trend\"\"\"\n",
    "    late_list = []\n",
    "    for i, stock_code in enumerate(stock_list):\n",
    "        pd.DataFrame(td.time_series(symbol=self.stock_code,\n",
    "                                                 interval='1h',\n",
    "                                                 outputsize='5000',\n",
    "                                                 timezone='America/New_York').as_pandas()['close'])"
   ]
  },
  {
   "cell_type": "code",
   "execution_count": null,
   "metadata": {
    "scrolled": true
   },
   "outputs": [],
   "source": [
    "#stock_list = ['AAPL', 'AMZN', 'TWTR', 'NFLX', 'TSLA', 'GOOG', 'MSFT', 'PG', 'DIS', 'BIIB', 'LLY', 'SBUX', 'INTC', 'FB', 'AEP', 'AEE']\n",
    "test = pd.DataFrame(td.time_series(symbol='AMZN',\n",
    "                            interval='1min',\n",
    "                            outputsize='1400',\n",
    "                            start_date='2020-07-28 9:30:00',\n",
    "                            timezone='America/New_York').as_pandas()['close'])\n",
    "test.index = test.index.tz_localize('America/New_York')"
   ]
  },
  {
   "cell_type": "code",
   "execution_count": null,
   "metadata": {},
   "outputs": [],
   "source": [
    "plt.figure(figsize=(50, 10))\n",
    "plt.plot(result_df.index, result_df)\n",
    "plt.plot(test)"
   ]
  }
 ],
 "metadata": {
  "kernelspec": {
   "display_name": "Python 3",
   "language": "python",
   "name": "python3"
  },
  "language_info": {
   "codemirror_mode": {
    "name": "ipython",
    "version": 3
   },
   "file_extension": ".py",
   "mimetype": "text/x-python",
   "name": "python",
   "nbconvert_exporter": "python",
   "pygments_lexer": "ipython3",
   "version": "3.7.7"
  },
  "varInspector": {
   "cols": {
    "lenName": 16,
    "lenType": 16,
    "lenVar": 40
   },
   "kernels_config": {
    "python": {
     "delete_cmd_postfix": "",
     "delete_cmd_prefix": "del ",
     "library": "var_list.py",
     "varRefreshCmd": "print(var_dic_list())"
    },
    "r": {
     "delete_cmd_postfix": ") ",
     "delete_cmd_prefix": "rm(",
     "library": "var_list.r",
     "varRefreshCmd": "cat(var_dic_list()) "
    }
   },
   "types_to_exclude": [
    "module",
    "function",
    "builtin_function_or_method",
    "instance",
    "_Feature"
   ],
   "window_display": false
  }
 },
 "nbformat": 4,
 "nbformat_minor": 1
}
